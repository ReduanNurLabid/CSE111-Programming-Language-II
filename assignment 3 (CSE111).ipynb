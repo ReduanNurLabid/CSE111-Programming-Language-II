{
 "cells": [
  {
   "cell_type": "code",
   "execution_count": 42,
   "metadata": {},
   "outputs": [
    {
     "ename": "ValueError",
     "evalue": "could not convert string to float: ''",
     "output_type": "error",
     "traceback": [
      "\u001b[1;31m---------------------------------------------------------------------------\u001b[0m",
      "\u001b[1;31mValueError\u001b[0m                                Traceback (most recent call last)",
      "\u001b[1;32mc:\\Users\\nurre\\OneDrive\\Documents\\Json Files\\assignment 3 (CSE111).ipynb Cell 1'\u001b[0m in \u001b[0;36m<cell line: 21>\u001b[1;34m()\u001b[0m\n\u001b[0;32m     <a href='vscode-notebook-cell:/c%3A/Users/nurre/OneDrive/Documents/Json%20Files/assignment%203%20%28CSE111%29.ipynb#ch0000000?line=16'>17</a>\u001b[0m     \u001b[39mdef\u001b[39;00m \u001b[39mdivide\u001b[39m(\u001b[39mself\u001b[39m):\n\u001b[0;32m     <a href='vscode-notebook-cell:/c%3A/Users/nurre/OneDrive/Documents/Json%20Files/assignment%203%20%28CSE111%29.ipynb#ch0000000?line=17'>18</a>\u001b[0m         \u001b[39mreturn\u001b[39;00m \u001b[39mself\u001b[39m\u001b[39m.\u001b[39mv1 \u001b[39m/\u001b[39m \u001b[39mself\u001b[39m\u001b[39m.\u001b[39mv2\n\u001b[1;32m---> <a href='vscode-notebook-cell:/c%3A/Users/nurre/OneDrive/Documents/Json%20Files/assignment%203%20%28CSE111%29.ipynb#ch0000000?line=20'>21</a>\u001b[0m m \u001b[39m=\u001b[39m \u001b[39mfloat\u001b[39;49m(\u001b[39minput\u001b[39;49m(\u001b[39m\"\u001b[39;49m\u001b[39mValue 1:\u001b[39;49m\u001b[39m\"\u001b[39;49m))\n\u001b[0;32m     <a href='vscode-notebook-cell:/c%3A/Users/nurre/OneDrive/Documents/Json%20Files/assignment%203%20%28CSE111%29.ipynb#ch0000000?line=21'>22</a>\u001b[0m op \u001b[39m=\u001b[39m \u001b[39minput\u001b[39m(\u001b[39m\"\u001b[39m\u001b[39mOperator:\u001b[39m\u001b[39m\"\u001b[39m)\n\u001b[0;32m     <a href='vscode-notebook-cell:/c%3A/Users/nurre/OneDrive/Documents/Json%20Files/assignment%203%20%28CSE111%29.ipynb#ch0000000?line=22'>23</a>\u001b[0m n \u001b[39m=\u001b[39m \u001b[39mfloat\u001b[39m(\u001b[39minput\u001b[39m(\u001b[39m\"\u001b[39m\u001b[39mValue 2:\u001b[39m\u001b[39m\"\u001b[39m))\n",
      "\u001b[1;31mValueError\u001b[0m: could not convert string to float: ''"
     ]
    }
   ],
   "source": [
    "#1\n",
    "class Calculator:\n",
    "    def __init__(self,v1,v2,operator):\n",
    "        self.v1 = v1\n",
    "        self.v2 = v2\n",
    "        print(\"Let's Calculate!\")\n",
    "        print(\"Value 1:\",v1)\n",
    "        print(\"Operator:\",operator)\n",
    "        print(\"Value 2:\",v2)\n",
    "        print(\"Result:\",end=\" \")\n",
    "    def add(self):\n",
    "        return self.v1 + self.v2\n",
    "    def subtract(self):\n",
    "        return self.v1 - self.v2\n",
    "    def multiply(self):\n",
    "        return self.v1 * self.v2\n",
    "    def divide(self):\n",
    "        return self.v1 / self.v2\n",
    "\n",
    "\n",
    "m = float(input(\"Value 1:\"))\n",
    "op = input(\"Operator:\")\n",
    "n = float(input(\"Value 2:\"))\n",
    "\n",
    "c = Calculator(m,n,op)\n",
    "\n",
    "if op == \"+\":\n",
    "    print(c.add())\n",
    "\n",
    "if op == \"-\":\n",
    "    print(c.subtract())\n",
    "\n",
    "if op == \"*\":\n",
    "    print(c.multiply())\n",
    "    \n",
    "if op == \"/\":\n",
    "    print(c.divide())"
   ]
  },
  {
   "cell_type": "code",
   "execution_count": null,
   "metadata": {},
   "outputs": [
    {
     "name": "stdout",
     "output_type": "stream",
     "text": [
      "CSE110 - TBA - 8 \n",
      "===============\n",
      "CSE111 - TBA - 9 \n"
     ]
    }
   ],
   "source": [
    "#2\n",
    "class Course:\n",
    "    def __init__(self,name,faculty,section):\n",
    "        self.name = name\n",
    "        self.faculty = faculty\n",
    "        self.section = section\n",
    "\n",
    "    def detail(self):\n",
    "        print(f\"{self.name} - {self.faculty} - {self.section} \")\n",
    "\n",
    "#drivercode\n",
    "c1 = Course(\"CSE110\", \"TBA\", 8)\n",
    "c1.detail()\n",
    "print(\"===============\")\n",
    "c2 = Course(\"CSE111\", \"TBA\", 9)\n",
    "c2.detail()"
   ]
  },
  {
   "cell_type": "code",
   "execution_count": 3,
   "metadata": {},
   "outputs": [
    {
     "name": "stdout",
     "output_type": "stream",
     "text": [
      "Name:A\n",
      "Age: 55\n",
      "Weight: 63.0 kg\n",
      "Height:1.58 cm\n",
      "BMI:25.236340330075304\n",
      "====================\n",
      "Name:B\n",
      "Age: 53\n",
      "Weight: 61.0 kg\n",
      "Height:1.49 cm\n",
      "BMI:27.476239809017613\n"
     ]
    }
   ],
   "source": [
    "#3\n",
    "class Patient:\n",
    "    def __init__(self,name,age,weight,height):\n",
    "        self.name = name\n",
    "        self.age = age\n",
    "        self.weight = weight\n",
    "        self.height = height/100\n",
    "        self.bmi = (weight / (self.height)**2)\n",
    "        \n",
    "    def printDetails(self):\n",
    "        print(f\"Name:{self.name}\\nAge: {self.age}\\nWeight: {self.weight} kg\\nHeight:{self.height} cm\\nBMI:{self.bmi}\")\n",
    "\n",
    "#drivercode\n",
    "p1 = Patient(\"A\", 55, 63.0, 158.0)\n",
    "p1.printDetails()\n",
    "print(\"====================\")\n",
    "p2 = Patient(\"B\", 53, 61.0, 149.0)\n",
    "p2.printDetails()\n"
   ]
  },
  {
   "cell_type": "code",
   "execution_count": null,
   "metadata": {},
   "outputs": [
    {
     "name": "stdout",
     "output_type": "stream",
     "text": [
      "(0, 0)\n",
      "(0, 1)\n",
      "(-1, 1)\n",
      "(-1, 0)\n"
     ]
    }
   ],
   "source": [
    "#4\n",
    "class Vehicle:\n",
    "    def __init__(self):\n",
    "        self.pos = [0,0]\n",
    "    \n",
    "    def print_position(self):\n",
    "        print(tuple(self.pos))\n",
    "\n",
    "    def moveUp(self):\n",
    "        self.pos[1] += 1\n",
    "    def moveLeft(self):\n",
    "        self.pos[0] -= 1\n",
    "    def moveDown(self):\n",
    "        self.pos[1] -= 1\n",
    "    def moveRight(self):\n",
    "        self.pos[0] += 1\n",
    "        \n",
    "#drivercode\n",
    "car = Vehicle()\n",
    "car.print_position()\n",
    "car.moveUp()\n",
    "car.print_position()\n",
    "car.moveLeft()\n",
    "car.print_position()\n",
    "car.moveDown()\n",
    "car.print_position()\n",
    "car.moveRight()\n"
   ]
  },
  {
   "cell_type": "code",
   "execution_count": null,
   "metadata": {},
   "outputs": [
    {
     "name": "stdout",
     "output_type": "stream",
     "text": [
      "Area: 125.0\n",
      "==========================\n",
      "Area: 100\n",
      "==========================\n",
      "Area: 225.0\n",
      "==========================\n",
      "Area: 450\n",
      "==========================\n",
      "Shape Unknown\n"
     ]
    }
   ],
   "source": [
    "#5\n",
    "class Shape:\n",
    "    def __init__(self,name,a,b):\n",
    "        self.name = name\n",
    "        self.a = a\n",
    "        self.b = b\n",
    "    def area(self):\n",
    "        if self.name == \"Triangle\":\n",
    "            print(\"Area:\",0.5*self.a*self.b)\n",
    "        elif self.name == \"Square\":\n",
    "            print(\"Area:\",self.a**2)\n",
    "        elif self.name== \"Rhombus\":\n",
    "            print(\"Area:\", 0.5*self.a*self.b)\n",
    "        elif self.name == \"Rectangle\":\n",
    "            print(\"Area:\",self.a*self.b)\n",
    "        else:\n",
    "            print(\"Shape Unknown\")\n",
    "\n",
    "#drivercode\n",
    "triangle = Shape(\"Triangle\",10,25)\n",
    "triangle.area()\n",
    "print(\"==========================\")\n",
    "square = Shape(\"Square\",10,10)\n",
    "square.area()\n",
    "print(\"==========================\")\n",
    "rhombus = Shape(\"Rhombus\",18,25)\n",
    "rhombus.area()\n",
    "print(\"==========================\")\n",
    "rectangle = Shape(\"Rectangle\",15,30)\n",
    "rectangle.area()\n",
    "print(\"==========================\")\n",
    "trapezium = Shape(\"Trapezium\",15,30)\n",
    "trapezium.area()\n"
   ]
  },
  {
   "cell_type": "code",
   "execution_count": 4,
   "metadata": {},
   "outputs": [
    {
     "name": "stdout",
     "output_type": "stream",
     "text": [
      "==================\n",
      "Returned value: 30\n",
      "10 + 20 = 30\n",
      "==================\n",
      "Returned value: 20\n",
      "30 - 10 = 20\n",
      "==================\n",
      "Returned value: 100\n",
      "20 * 5 = 100\n",
      "==================\n",
      "Returned value: 6.25\n",
      "100 / 16 = 6.25\n"
     ]
    }
   ],
   "source": [
    "#6\n",
    "class Calculator:\n",
    "\n",
    "    def __init__(self):\n",
    "        pass\n",
    "\n",
    "    def calculate(self,v1,v2,op):\n",
    "\n",
    "        self.v1 = v1\n",
    "        self.v2 = v2\n",
    "        self.op = op\n",
    "        \n",
    "        if op == \"+\":\n",
    "            result = v1 + v2\n",
    "        if op == \"-\":\n",
    "            result = v1 - v2\n",
    "        if op == \"*\":\n",
    "            result = v1 * v2\n",
    "        if op == \"/\":\n",
    "            result = v1 / v2\n",
    "\n",
    "        self.result = result\n",
    "        \n",
    "        return result\n",
    "\n",
    "    def showCalculation(self):\n",
    "        print(self.v1, self.op, self.v2 ,\"=\", self.result)\n",
    "        \n",
    "#drivercode\n",
    "c1 = Calculator()\n",
    "print(\"==================\")\n",
    "val = c1.calculate(10, 20, '+')\n",
    "print(\"Returned value:\", val)\n",
    "c1.showCalculation()\n",
    "print(\"==================\")\n",
    "val = c1.calculate(val, 10, '-')\n",
    "print(\"Returned value:\", val)\n",
    "c1.showCalculation()\n",
    "print(\"==================\")\n",
    "val = c1.calculate(val, 5, '*')\n",
    "print(\"Returned value:\", val)\n",
    "c1.showCalculation()\n",
    "print(\"==================\")\n",
    "val = c1.calculate(val, 16, '/')\n",
    "print(\"Returned value:\", val)\n",
    "c1.showCalculation()\n"
   ]
  },
  {
   "cell_type": "code",
   "execution_count": null,
   "metadata": {},
   "outputs": [
    {
     "name": "stdout",
     "output_type": "stream",
     "text": [
      "==========================\n",
      "Name: Dora, ID: 15995599\n",
      "Department: CSE\n",
      "CGPA: 3.85\n",
      "Your academic standing is 'Highest Distinction'\n",
      "==========================\n",
      "==========================\n",
      "Name: Pingu, ID: 12312322\n",
      "Department: EEE\n",
      "CGPA: 1.32\n",
      "Sorry, you cannot graduate\n",
      "==========================\n",
      "==========================\n",
      "Name: Bob, ID: 13311331\n",
      "Department: CSE\n",
      "CGPA: 2.85\n",
      "Your academic standing is 'Satisfactory'\n"
     ]
    }
   ],
   "source": [
    "#7\n",
    "class Student:\n",
    "    def __init__(self,name,roll,dept,grades):\n",
    "        self.name = name\n",
    "        self.roll = roll\n",
    "        self.dept = dept\n",
    "        self.grades = grades\n",
    "    def calculate_CGPA(self):\n",
    "\n",
    "        cg=0\n",
    "        for i in self.grades:\n",
    "            cg = cg + i*3\n",
    "\n",
    "        self.cgpa = cg/(len(self.grades)*3)\n",
    "\n",
    "    def print_details(self):\n",
    "        \n",
    "        print(f\"Name: {self.name}, ID: {self.roll}\\nDepartment: {self.dept}\\nCGPA: {self.cgpa}\")\n",
    "        \n",
    "        if self.cgpa > 3.80:\n",
    "            state = \"'Highest Distinction'\"\n",
    "        elif self.cgpa > 3.65:\n",
    "            state = \"'High Distinction'\"\n",
    "        elif self.cgpa > 3.50:\n",
    "            state = \"'Distinction'\"\n",
    "        elif self.cgpa > 2.00:\n",
    "            state = \"'Satisfactory'\"\n",
    "\n",
    "        if self.cgpa < 2:\n",
    "            print(\"Sorry, you cannot graduate\")\n",
    "        \n",
    "        else:\n",
    "            print(\"Your academic standing is\",state)\n",
    "\n",
    "#drivercode\n",
    "s1 = Student('Dora', '15995599','CSE', [4,3.7,3.7,4])\n",
    "s1.calculate_CGPA()\n",
    "print(\"==========================\")\n",
    "s1.print_details()\n",
    "print(\"==========================\")\n",
    "s2 = Student('Pingu', '12312322', 'EEE', [1.7,1.3,1.3,1.3,1])\n",
    "s2.calculate_CGPA()\n",
    "print(\"==========================\")\n",
    "s2.print_details()\n",
    "print(\"==========================\") 3\n",
    "s3 = Student('Bob', '13311331', 'CSE', [2,3,3,3.7,2.7,2.7])\n",
    "s3.calculate_CGPA()\n",
    "print(\"==========================\")\n",
    "s3.print_details()\n"
   ]
  },
  {
   "cell_type": "code",
   "execution_count": null,
   "metadata": {},
   "outputs": [
    {
     "name": "stdout",
     "output_type": "stream",
     "text": [
      "Name: Naruto\n",
      "Rank: Genin\n",
      "Number of missions: 5\n",
      "salary: 250\n",
      "====================\n",
      "Name: Shikamaru\n",
      "Rank: Genin\n",
      "Number of missions: 0\n",
      "salary: 0\n",
      "Name: Shikamaru\n",
      "Rank: Chunin\n",
      "Number of missions: 10\n",
      "salary: 1000\n",
      "====================\n",
      "Name: Neiji\n",
      "Rank: Jonin\n",
      "Number of missions: 5\n",
      "salary: 2500\n"
     ]
    }
   ],
   "source": [
    "#8\n",
    "class Shinobi:\n",
    "    def __init__(self,name,rank):\n",
    "        self.name = name\n",
    "        self.rank = rank\n",
    "        self.missions = 0\n",
    "        self.salary = 0\n",
    "    \n",
    "    def calSalary(self,missions):\n",
    "        self.missions = missions\n",
    "        if self.rank == \"Genin\":\n",
    "            p = 50\n",
    "        elif self.rank == \"Chunin\":\n",
    "            p = 100\n",
    "        else:\n",
    "            p = 500\n",
    "        self.salary = missions * p\n",
    "    def printInfo(self):\n",
    "        print(\"Name:\",self.name)\n",
    "        print(\"Rank:\",self.rank)\n",
    "        print(\"Number of missions:\",self.missions)\n",
    "        print(\"salary:\",self.salary)\n",
    "    \n",
    "    def changeRank(self,rank):\n",
    "        self.rank = rank\n",
    "\n",
    "\n",
    "naruto = Shinobi(\"Naruto\", \"Genin\")\n",
    "naruto.calSalary(5)\n",
    "naruto.printInfo()\n",
    "print('====================')\n",
    "shikamaru = Shinobi('Shikamaru', \"Genin\")\n",
    "shikamaru.printInfo()\n",
    "shikamaru.changeRank(\"Chunin\")\n",
    "shikamaru.calSalary(10)\n",
    "shikamaru.printInfo()\n",
    "print('====================')\n",
    "neiji = Shinobi(\"Neiji\", \"Jonin\")\n",
    "neiji.calSalary(5)\n",
    "neiji.printInfo()\n"
   ]
  },
  {
   "cell_type": "code",
   "execution_count": null,
   "metadata": {},
   "outputs": [
    {
     "name": "stdout",
     "output_type": "stream",
     "text": [
      "Horray! A new programmer is born\n",
      "Name: Ethen Hunt\n",
      "Language: Java\n",
      "Experience: 10 years\n",
      "--------------------------\n",
      "Horray! A new programmer is born\n",
      "Name: James Bond\n",
      "Language: C++\n",
      "Experience: 7 years\n",
      "--------------------------\n",
      "Horray! A new programmer is born\n",
      "Name: Jon Snow\n",
      "Language: Python\n",
      "Experience: 4 years\n",
      "Name: Jon Snow\n",
      "Language: Python\n",
      "Experience: 9 years\n"
     ]
    }
   ],
   "source": [
    "#9\n",
    "class Programmer:\n",
    "    def __init__(self,name,language,experience):\n",
    "        self.name = name\n",
    "        self.language = language\n",
    "        self.experience = experience\n",
    "        print(\"Horray! A new programmer is born\")\n",
    "    def printDetails(self):\n",
    "        print(\"Name:\",self.name)\n",
    "        print(\"Language:\",self.language)\n",
    "        print(\"Experience:\",self.experience,\"years\")\n",
    "    def addExp(self,exp):\n",
    "        self.experience += exp\n",
    "\n",
    "p1 = Programmer(\"Ethen Hunt\", \"Java\", 10)\n",
    "p1.printDetails()\n",
    "print('--------------------------')\n",
    "p2 = Programmer(\"James Bond\", \"C++\", 7)\n",
    "p2.printDetails()\n",
    "print('--------------------------')\n",
    "p3 = Programmer(\"Jon Snow\", \"Python\", 4)\n",
    "p3.printDetails()\n",
    "p3.addExp(5)\n",
    "p3.printDetails()  \n",
    "\n"
   ]
  },
  {
   "cell_type": "code",
   "execution_count": null,
   "metadata": {},
   "outputs": [
    {
     "name": "stdout",
     "output_type": "stream",
     "text": [
      "Shakib, Welcome to UberEats!\n",
      "=========================\n",
      "=========================\n",
      "User details: Shakib, Phone: 01719658xxx,Address:Mohakhali\n",
      "Orders:{'Burger': 220, 'Coca Cola': 50}\n",
      "Total paid amount:270\n",
      "=========================\n",
      "Siam, Welcome to UberEats!\n",
      "=========================\n",
      "=========================\n",
      "User details: Siam, Phone: 01719659xxx,Address:Uttara\n",
      "Orders:{'Pineapple': 80, 'Dairy Milk': 70}\n",
      "Total paid amount:150\n"
     ]
    }
   ],
   "source": [
    "#10\n",
    "class UberEats:\n",
    "    def __init__(self,name,phone,location):\n",
    "        self.name = name\n",
    "        self.phone = phone\n",
    "        self.location = location\n",
    "        self.cart = {}\n",
    "        self.payable = 0\n",
    "        print(f\"{self.name}, Welcome to UberEats!\")\n",
    "\n",
    "    \n",
    "    def add_items(self,item_1,item_2,cost_1,cost_2):\n",
    "        self.cart[item_1] = cost_1\n",
    "        self.cart[item_2] = cost_2\n",
    "        for i in self.cart.values():\n",
    "            self.payable += i\n",
    "            \n",
    "    def print_order_detail(self):\n",
    "        return f\"User details: {self.name}, Phone: {self.phone},Address:{self.location}\\nOrders:{self.cart}\\nTotal paid amount:{self.payable}\"\n",
    "\n",
    "\n",
    "order1 = UberEats(\"Shakib\", \"01719658xxx\", \"Mohakhali\")\n",
    "print(\"=========================\")\n",
    "order1.add_items(\"Burger\", \"Coca Cola\", 220, 50)\n",
    "print(\"=========================\")\n",
    "print(order1.print_order_detail())\n",
    "print(\"=========================\")\n",
    "order2 = UberEats (\"Siam\", \"01719659xxx\", \"Uttara\")\n",
    "print(\"=========================\")\n",
    "order2.add_items(\"Pineapple\", \"Dairy Milk\", 80, 70)\n",
    "print(\"=========================\")\n",
    "print(order2.print_order_detail())\n"
   ]
  },
  {
   "cell_type": "code",
   "execution_count": 7,
   "metadata": {},
   "outputs": [
    {
     "name": "stdout",
     "output_type": "stream",
     "text": [
      "Welcome to spotify\n",
      "=========================\n",
      "4 number song not found. Your playlist has 3 songs only.\n",
      "##########################\n",
      "Playing 3 number song for you\n",
      "Song name: Hello\n",
      "4 number song not found. Your playlist has 3 songs only.\n"
     ]
    }
   ],
   "source": [
    "#11\n",
    "class Spotify:\n",
    "    def __init__(self,playlist):\n",
    "\n",
    "        self.playlist = playlist\n",
    "        self.size = len(playlist)\n",
    "        print(\"Welcome to spotify\")\n",
    "    \n",
    "    def add_to_playlist(self,queue):\n",
    "        self.playlist.append(queue)\n",
    "\n",
    "    def playing_number(self,track):\n",
    "        \n",
    "        if track <= self.size:\n",
    "            print(\"##########################\")\n",
    "            playing = self.playlist[track-1]\n",
    "            \n",
    "            return f\"Playing {track} number song for you\\nSong name: {playing}\"\n",
    "\n",
    "        else:\n",
    "            return f\"{track} number song not found. Your playlist has {self.size} songs only.\"\n",
    "        \n",
    "\n",
    "\n",
    "\n",
    "user1 = Spotify([\"See You Again\", \"Uptown Funk\", \"Hello\"])\n",
    "print(\"=========================\")\n",
    "print(user1.playing_number(4))\n",
    "user1.add_to_playlist(\"Dusk Till Dawn\")\n",
    "print(user1.playing_number(3))\n",
    "print(user1.playing_number(4))\n"
   ]
  },
  {
   "cell_type": "markdown",
   "metadata": {},
   "source": [
    "Tracing"
   ]
  },
  {
   "cell_type": "code",
   "execution_count": 18,
   "metadata": {},
   "outputs": [
    {
     "name": "stdout",
     "output_type": "stream",
     "text": [
      "18 7 25\n",
      "18 7 25\n",
      "44 11 80\n",
      "55 22 157\n"
     ]
    }
   ],
   "source": [
    "class Test:\n",
    "    def __init__(self):\n",
    "        self.sum = 0\n",
    "        self.y = 0\n",
    "\n",
    "\n",
    "    def methodA(self):\n",
    "        x=0\n",
    "        y =0\n",
    "        y = y + 7\n",
    "        x = y + 11\n",
    "        self.sum = x + y\n",
    "        print(x , y, self.sum)\n",
    "\n",
    "\n",
    "    def methodB(self):\n",
    "        x = 0\n",
    "        self.y = self.y + 11\n",
    "        x = x + 33 + self.y\n",
    "        self.sum = self.sum + x + self.y\n",
    "        print(x , self.y, self.sum)\n",
    "        \n",
    "t1 = Test()\n",
    "t1.methodA()\n",
    "t1.methodA()\n",
    "t1.methodB()\n",
    "t1.methodB()\n"
   ]
  },
  {
   "cell_type": "code",
   "execution_count": 15,
   "metadata": {},
   "outputs": [
    {
     "name": "stdout",
     "output_type": "stream",
     "text": [
      "51 18 94\n"
     ]
    }
   ],
   "source": [
    "x = 0\n",
    "y = 7\n",
    "sum1 = 25\n",
    "y = y + 11\n",
    "x = x + 33 +y\n",
    "sum1 = sum1 + x + y\n",
    "print(x ,y, sum1)"
   ]
  },
  {
   "cell_type": "code",
   "execution_count": 22,
   "metadata": {},
   "outputs": [
    {
     "name": "stdout",
     "output_type": "stream",
     "text": [
      "1 0\n",
      "405 302\n",
      "1 0\n",
      "1 0\n",
      "1209 704\n",
      "1 0\n"
     ]
    },
    {
     "data": {
      "text/plain": [
       "1"
      ]
     },
     "execution_count": 22,
     "metadata": {},
     "output_type": "execute_result"
    }
   ],
   "source": [
    "class Scope:\n",
    "    def __init__(self):\n",
    "        self.x, self.y = 1, 100        \n",
    "    def met1(self):\n",
    "        x = 3\n",
    "        x = self.x + 1\n",
    "        self.y = self.y + self.x + 1\n",
    "        x = self.y + self.met2() + self.y\n",
    "        print(x, self.y)         \n",
    "    def met2(self):\n",
    "        y = 0\n",
    "        print(self.x, y)\n",
    "        self.x = self.x + y\n",
    "        self.y = self.y + 200\n",
    "        return self.x + y\n",
    "\n",
    "q2 = Scope()\n",
    "q2.met1()\n",
    "q2.met2()\n",
    "q2.met1()\n",
    "q2.met2()\n"
   ]
  },
  {
   "cell_type": "code",
   "execution_count": 24,
   "metadata": {},
   "outputs": [
    {
     "data": {
      "text/plain": [
       "[3]"
      ]
     },
     "execution_count": 24,
     "metadata": {},
     "output_type": "execute_result"
    }
   ],
   "source": [
    "msg = [0]\n",
    "msg[0] = 3\n",
    "msg\n"
   ]
  },
  {
   "cell_type": "code",
   "execution_count": 26,
   "metadata": {},
   "outputs": [
    {
     "name": "stdout",
     "output_type": "stream",
     "text": [
      "36 3 39\n",
      "9 3 18\n",
      "36 6 60\n",
      "15 6 30\n",
      "36 9 75\n",
      "21 9 42\n",
      "36 12 90\n",
      "27 12 54\n"
     ]
    }
   ],
   "source": [
    "class Test3:\n",
    "    def __init__(self):\n",
    "        self.sum, self.y = 0, 0\n",
    "    def methodA(self):\n",
    "        x, y = 2, 3\n",
    "        msg = [0]\n",
    "        msg[0] = 3\n",
    "        y = self.y + msg[0]\n",
    "        self.methodB(msg, msg[0])\n",
    "        x = self.y + msg[0]\n",
    "        self.sum = x + y + msg[0]\n",
    "        print(x, y, self.sum)\n",
    "    def methodB(self, mg2, mg1):\n",
    "        x = 0\n",
    "        self.y = self.y + mg2[0]\n",
    "        x = x + 33 + mg1\n",
    "        self.sum = self.sum + x + self.y\n",
    "        mg2[0] = self.y + mg1\n",
    "        mg1 = mg1 + x + 2\n",
    "        print(x, self.y, self.sum)\n",
    "\n",
    "t3 = Test3()\n",
    "t3.methodA()\n",
    "t3.methodA()\n",
    "t3.methodA()\n",
    "t3.methodA()\n"
   ]
  },
  {
   "cell_type": "code",
   "execution_count": 10,
   "metadata": {},
   "outputs": [],
   "source": [
    "class ShoppingCart:\n",
    "    def __init__(self,name,items,price):\n",
    "        self.name = name\n",
    "        self.items= items\n",
    "        self.price = price\n",
    "    def calcPrice(self):\n",
    "        self.total = sum(self.price)\n",
    "    def toString(self):\n",
    "        self.items_str = \"\"\n",
    "        for i in self.items:\n",
    "            self.items_str += i+ \",\"\n",
    "        self.items_str = self.items_str[:-1]\n",
    "    def printInVoice(self):\n",
    "        return f\"Name:{self.name}\\nYou have purchased following items:\\n{self.items_str}\\nTotal Price:{self.total}\"\n"
   ]
  },
  {
   "cell_type": "markdown",
   "metadata": {},
   "source": []
  },
  {
   "cell_type": "markdown",
   "metadata": {},
   "source": []
  },
  {
   "cell_type": "code",
   "execution_count": 11,
   "metadata": {},
   "outputs": [
    {
     "name": "stdout",
     "output_type": "stream",
     "text": [
      "Name:Rafi\n",
      "You have purchased following items:\n",
      "begun,alu,corola\n",
      "Total Price:185\n"
     ]
    }
   ],
   "source": [
    "scr =  ShoppingCart(\"Rafi\",[\"begun\", \"alu\", \"corola\"],[20,69,96])\n",
    "scr.calcPrice()\n",
    "scr.toString()\n",
    "print(scr.printInVoice())"
   ]
  },
  {
   "cell_type": "code",
   "execution_count": null,
   "metadata": {},
   "outputs": [],
   "source": []
  },
  {
   "cell_type": "markdown",
   "metadata": {},
   "source": [
    "From the string find the numbers and print them with their designated even or odd list and \n",
    "\n",
    "input:\n",
    "\"Hi Dad, I'm from 2059. I Travelled 37 years to meet you.\"\n",
    "\n",
    "Output:\n",
    "\n",
    "even nums: [2,0]\n",
    "odd nums:[5,9,3,7]"
   ]
  },
  {
   "cell_type": "markdown",
   "metadata": {},
   "source": [
    "Design a class for 'Gujob Bank'. Make these methods to smoothly run your class.\n",
    "ShonaMia = Gujob.create_new_account()"
   ]
  },
  {
   "cell_type": "code",
   "execution_count": 12,
   "metadata": {},
   "outputs": [
    {
     "data": {
      "text/plain": [
       "59"
      ]
     },
     "execution_count": 12,
     "metadata": {},
     "output_type": "execute_result"
    }
   ],
   "source": [
    "37+22"
   ]
  },
  {
   "cell_type": "code",
   "execution_count": 10,
   "metadata": {},
   "outputs": [],
   "source": [
    "class Gujob:\n",
    "    def __init__(self):\n",
    "        pass\n",
    "    def create(self):\n",
    "\n",
    "        self.name = input(\"Your name please:\")\n",
    "        if not self.name.isalpha():\n",
    "            print(\"Sorry,Name can only consists letters.Try again!!\")        \n",
    "\n",
    "        \n",
    "        self.nid = input(\"Your NID number:\")\n",
    "        if not self.nid.isalnum():\n",
    "            print(\"Sorry,NID no can only consists numbers.Try again!!\")\n"
   ]
  },
  {
   "cell_type": "code",
   "execution_count": 11,
   "metadata": {},
   "outputs": [],
   "source": [
    "moyen =Gujob()\n",
    "moyen.create()"
   ]
  },
  {
   "cell_type": "code",
   "execution_count": null,
   "metadata": {},
   "outputs": [],
   "source": [
    "class Gujob:\n",
    "    def __init__(self,name:str,nid:int,birth:str,balance:int):\n",
    "        self.name = name\n",
    "        self.nid = nid\n",
    "        self.birth = birth\n",
    "        self.balance = balance\n",
    "        self.history = {}\n",
    "        print(f\"Welcome {self.name} to Gujob Bank. Thanks for creating an account.\")\n",
    "    def withdraw(self,amount):\n",
    "        if amount > self.balance:\n",
    "            print(\"Sorry,Insufficient Balance.\")\n",
    "        elif amount <500:\n",
    "            print(\"You cannot withdraw less than 500 Taka\")\n",
    "        else:\n",
    "            self.balance - amount\n",
    "            print(\"Withdraw Successful.\\nAccount Balance left:\",self.balance)\n",
    "            self.history[]\n",
    "    def cashIn(self,amount):\n"
   ]
  },
  {
   "cell_type": "markdown",
   "metadata": {},
   "source": [
    "10 - free\n",
    "10 - 5\n",
    "10 - 7.5\n",
    "any - 10"
   ]
  },
  {
   "cell_type": "code",
   "execution_count": 10,
   "metadata": {},
   "outputs": [
    {
     "name": "stdout",
     "output_type": "stream",
     "text": [
      "Fee: 57.5\n"
     ]
    }
   ],
   "source": [
    "t = int(input(\"Transactions:\"))\n",
    "\n",
    "if t>30:\n",
    "    amount = 10 * 5 + 10 * 7.5 + (t-30)*10\n",
    "elif t>20:\n",
    "    amount = 10 * 5 + (t-20)*7.5\n",
    "elif t>10:\n",
    "    amount = (t-10)*5\n",
    "else:\n",
    "    amount = 0\n",
    "    \n",
    "print(\"Fee:\",amount)\n"
   ]
  },
  {
   "cell_type": "code",
   "execution_count": null,
   "metadata": {},
   "outputs": [],
   "source": []
  },
  {
   "cell_type": "code",
   "execution_count": null,
   "metadata": {},
   "outputs": [],
   "source": []
  }
 ],
 "metadata": {
  "kernelspec": {
   "display_name": "Python 3.10.3 64-bit",
   "language": "python",
   "name": "python3"
  },
  "language_info": {
   "codemirror_mode": {
    "name": "ipython",
    "version": 3
   },
   "file_extension": ".py",
   "mimetype": "text/x-python",
   "name": "python",
   "nbconvert_exporter": "python",
   "pygments_lexer": "ipython3",
   "version": "3.10.3"
  },
  "orig_nbformat": 4,
  "vscode": {
   "interpreter": {
    "hash": "0e13f340c18a70f97fe5af1559f3365ededd8188aa82e954922cb03f301c6f95"
   }
  }
 },
 "nbformat": 4,
 "nbformat_minor": 2
}
