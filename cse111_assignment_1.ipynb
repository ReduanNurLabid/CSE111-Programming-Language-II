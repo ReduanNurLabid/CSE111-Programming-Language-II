{
  "cells": [
    {
      "cell_type": "markdown",
      "metadata": {
        "id": "tSvEIL_lRR4p"
      },
      "source": [
        "**String**\n"
      ]
    },
    {
      "cell_type": "code",
      "execution_count": null,
      "metadata": {
        "id": "ZDo10zdHRR4u",
        "outputId": "8c2932fe-0551-437f-af76-371beb82ca25"
      },
      "outputs": [
        {
          "name": "stdout",
          "output_type": "stream",
          "text": [
            "HOUSE\n"
          ]
        }
      ],
      "source": [
        "# 1\n",
        "str_1 = \"HOusE\"\n",
        "up = 0\n",
        "low = 0\n",
        "\n",
        "for i in str_1:\n",
        "    if i.islower():\n",
        "        low += 1\n",
        "    else:\n",
        "        up += 1\n",
        "\n",
        "if up > low:\n",
        "    print(str_1.upper())\n",
        "else:\n",
        "    print(str_1.lower())\n"
      ]
    },
    {
      "cell_type": "code",
      "execution_count": null,
      "metadata": {
        "id": "7BfMtjymRR4v",
        "outputId": "1e6bf227-064f-484d-91b5-10cc6c816148"
      },
      "outputs": [
        {
          "name": "stdout",
          "output_type": "stream",
          "text": [
            "NUMBER\n"
          ]
        }
      ],
      "source": [
        "# 2\n",
        "str_1 = \"2\"\n",
        "nums = False\n",
        "words = False\n",
        "\n",
        "for i in range(48, 58):\n",
        "\n",
        "    if chr(i) in str_1:\n",
        "        nums = True\n",
        "        break\n",
        "\n",
        "for i in range(65, 91):\n",
        "\n",
        "    if chr(i) in str_1:\n",
        "        words = True\n",
        "        break\n",
        "\n",
        "    if chr(i+32) in str_1:\n",
        "        words = True\n",
        "        break\n",
        "\n",
        "if nums and words:\n",
        "    print(\"MIXED\")\n",
        "\n",
        "elif nums:\n",
        "    print(\"NUMBER\")\n",
        "\n",
        "elif words:\n",
        "    print(\"WORD\")\n"
      ]
    },
    {
      "cell_type": "code",
      "execution_count": 2,
      "metadata": {
        "id": "FmhtmZ7ORR4v",
        "outputId": "2ea3c729-b0d1-42bd-f42d-92da1b957972"
      },
      "outputs": [
        {
          "name": "stdout",
          "output_type": "stream",
          "text": [
            "Mixed\n"
          ]
        }
      ],
      "source": [
        "# 2\n",
        "str_1 = \"2h\"\n",
        "nums = False\n",
        "words = False\n",
        "if str_1.isnumeric():\n",
        "    print(\"Number\")\n",
        "\n",
        "elif str_1.isalpha():\n",
        "    print(\"Word\")\n",
        "\n",
        "else:\n",
        "    print(\"Mixed\")\n"
      ]
    },
    {
      "cell_type": "code",
      "execution_count": null,
      "metadata": {
        "id": "BFFrwPRZRR4w",
        "outputId": "bf15fac8-be32-4667-dc87-8bb5a52ee97b"
      },
      "outputs": [
        {
          "name": "stdout",
          "output_type": "stream",
          "text": [
            "glad\n"
          ]
        }
      ],
      "source": [
        "# 3\n",
        "str_1 = \"banNgladEsh\"\n",
        "\n",
        "switch = False\n",
        "sub = \"\"\n",
        "\n",
        "for i in str_1:\n",
        "    if 65 <= ord(i) <= 90:\n",
        "        switch = not switch\n",
        "    if switch:\n",
        "        sub += i\n",
        "if switch or len(sub) == 1:\n",
        "    print(\"BLANK\")\n",
        "else:\n",
        "    print(sub[1:])\n"
      ]
    },
    {
      "cell_type": "code",
      "execution_count": null,
      "metadata": {
        "id": "3-I7F7P3RR4x",
        "outputId": "a2ada292-9413-408f-bcd1-c76361dc01ad"
      },
      "outputs": [
        {
          "name": "stdout",
          "output_type": "stream",
          "text": [
            "hrrhr\n"
          ]
        }
      ],
      "source": [
        "# 4\n",
        "str_1 = \"harry\"\n",
        "str_2 = \"hermione\"\n",
        "\n",
        "sub = \"\"\n",
        "\n",
        "for i in str_1:\n",
        "    if i in str_2:\n",
        "        sub += i\n",
        "\n",
        "for i in str_2:\n",
        "    if i in str_1:\n",
        "        sub += i\n",
        "\n",
        "if len(sub) == 0:\n",
        "    print(\"Nothing in common\")\n",
        "else:\n",
        "    print(sub)\n"
      ]
    },
    {
      "cell_type": "code",
      "execution_count": 5,
      "metadata": {
        "id": "4tcG8_fwRR4x",
        "outputId": "1d04e594-73ae-4c85-ef6e-221a67025729"
      },
      "outputs": [
        {
          "name": "stdout",
          "output_type": "stream",
          "text": [
            "Uppercase missing,Digit missing,Special characters missing,"
          ]
        }
      ],
      "source": [
        "# 5\n",
        "\n",
        "password = input(\"Enter New Password: \")\n",
        "\n",
        "lower = False\n",
        "upper = False\n",
        "nums = False\n",
        "char = False\n",
        "\n",
        "for i in password:\n",
        "    if i.islower():\n",
        "        lower = True\n",
        "\n",
        "    elif i.isupper():\n",
        "        upper = True\n",
        "\n",
        "    elif i.isdigit():\n",
        "        nums = True\n",
        "\n",
        "    else:\n",
        "        char = True\n",
        "\n",
        "if lower == False:\n",
        "    print(\"Lowercase missing\",end =\",\")\n",
        "\n",
        "if upper == False:\n",
        "    print(\"Uppercase missing\",end = \",\")\n",
        "\n",
        "if nums == False:\n",
        "    print(\"Digit missing\",end=\",\")\n",
        "\n",
        "if char == False:\n",
        "    print(\"Special characters missing\",end=\",\")\n",
        "\n",
        "if lower and upper and nums and char:\n",
        "    print(\"OK\")\n"
      ]
    },
    {
      "cell_type": "markdown",
      "metadata": {
        "id": "zdqmAbOpRR4y"
      },
      "source": [
        "**List**"
      ]
    },
    {
      "cell_type": "code",
      "execution_count": 106,
      "metadata": {
        "id": "iB2fjSn4RR4y",
        "outputId": "fd59698f-a97e-430b-de67-4ac6a75cc3da"
      },
      "outputs": [
        {
          "name": "stdout",
          "output_type": "stream",
          "text": [
            "10 - 2 times\n",
            "20 - 2 times\n",
            "30 - 4 times\n"
          ]
        }
      ],
      "source": [
        "# 1\n",
        "lis_1 = []\n",
        "while True:\n",
        "\n",
        "    num = input(\"\")\n",
        "    if num == \"STOP\":\n",
        "        break\n",
        "    lis_1.append(num)\n",
        "\n",
        "lis_2 = []\n",
        "for i in lis_1:\n",
        "\n",
        "    if i not in lis_2:\n",
        "        print(f\"{i} - {lis_1.count(i)} times\")\n",
        "    lis_2.append(i)\n"
      ]
    },
    {
      "cell_type": "code",
      "execution_count": 6,
      "metadata": {
        "id": "P17wiwfhRR4z",
        "outputId": "3acd55c4-fa94-41bf-f724-88dbf0b3aec5"
      },
      "outputs": [
        {
          "name": "stdout",
          "output_type": "stream",
          "text": [
            "6\n",
            "[1, 2, 3]\n"
          ]
        }
      ],
      "source": [
        "# 2\n",
        "n = int(input(\"N:\"))\n",
        "counter = 0\n",
        "lis_2 = []\n",
        "while n > counter:\n",
        "\n",
        "    lis_1 = input(\"\")\n",
        "    lis_1 = lis_1.split(\" \")\n",
        "    lis_1 = list(map(int, lis_1))\n",
        "    lis_2.append(lis_1)\n",
        "\n",
        "    counter += 1\n",
        "\n",
        "\n",
        "summation = sum(lis_2[0])\n",
        "max_list = []\n",
        "\n",
        "for i in lis_2:\n",
        "\n",
        "    t = sum(i)\n",
        "\n",
        "    if summation <= t:\n",
        "        summation = t\n",
        "        max_list = i\n",
        "        \n",
        "print(summation)\n",
        "print(max_list)\n"
      ]
    },
    {
      "cell_type": "code",
      "execution_count": null,
      "metadata": {
        "id": "ecsdftTLRR40"
      },
      "outputs": [],
      "source": [
        "# 3\n",
        "while True:\n",
        "    \n",
        "    lis_1 = input()\n",
        "\n",
        "    if lis_1 == \"STOP\":\n",
        "        break\n",
        "\n",
        "    lis_1 = lis_1.split(\" \")\n",
        "    lis_1 = list(map(int, lis_1))\n",
        "\n",
        "    size = len(lis_1)\n",
        "    ans = \"UB jumper\"\n",
        "\n",
        "    for i in range(1, size):\n",
        "        \n",
        "        diff = lis_1[i] - lis_1[i-1]\n",
        "\n",
        "        if diff > size - 1:\n",
        "            ans = \"Not UB jumper\"\n",
        "            break\n",
        "\n",
        "    print(ans)\n"
      ]
    },
    {
      "cell_type": "code",
      "execution_count": null,
      "metadata": {
        "id": "hQ8cdbMcRR4z",
        "outputId": "9b047a8f-debd-4b2f-fc5b-5fde8b09f03f"
      },
      "outputs": [
        {
          "name": "stdout",
          "output_type": "stream",
          "text": [
            "1\n"
          ]
        }
      ],
      "source": [
        "# 4\n",
        "nk = input()\n",
        "participation = input()\n",
        "\n",
        "nk = nk.split(\" \")\n",
        "nk = list(map(int, nk))\n",
        "\n",
        "participation = participation.split(\" \")\n",
        "participation = list(map(int, participation))\n",
        "\n",
        "n = nk[0]\n",
        "k = nk[1]\n",
        "\n",
        "eligible = 0\n",
        "\n",
        "for i in participation:\n",
        "    if k <= 5 - i:\n",
        "        eligible += 1\n",
        "\n",
        "print(eligible//3)\n"
      ]
    },
    {
      "cell_type": "markdown",
      "metadata": {
        "id": "0NnASLrnSbn_"
      },
      "source": [
        "**Dictionary & Tuple**"
      ]
    },
    {
      "cell_type": "code",
      "execution_count": 107,
      "metadata": {
        "id": "2V3lqkeJRR41"
      },
      "outputs": [
        {
          "name": "stdout",
          "output_type": "stream",
          "text": [
            "{'a': 400, 'b': 300, 'c': 200, 'd': 700, 'e': 200}\n",
            "Values: (200, 300, 400, 700)\n"
          ]
        }
      ],
      "source": [
        "# 1\n",
        "a = \"a: 100, b: 100, c: 200, d: 300\"\n",
        "b = \"a: 300, b: 200, d: 400, e: 200\"\n",
        "\n",
        "\n",
        "def strToDict(x):\n",
        "    x = x.replace(\" \", \"\").split(\",\")\n",
        "\n",
        "    for i in range(len(x)):\n",
        "        x[i] = x[i].split(\":\")\n",
        "\n",
        "    pairs = dict(x)\n",
        "\n",
        "    for i in pairs:\n",
        "        pairs[i] = int(pairs[i])\n",
        "\n",
        "    return pairs\n",
        "\n",
        "\n",
        "a = strToDict(a)\n",
        "b = strToDict(b)\n",
        "\n",
        "c = {}\n",
        "for i, j in a.items():\n",
        "    c[i] = j\n",
        "\n",
        "for k, v in b.items():\n",
        "    if k in a:\n",
        "        c[k] += v\n",
        "    else:\n",
        "        c[k] = v\n",
        "print(c)\n",
        "\n",
        "lis_1 = []\n",
        "for vals in c.values():\n",
        "    if vals not in lis_1:\n",
        "        lis_1.append(vals)\n",
        "lis_1.sort()\n",
        "print(\"Values:\", tuple(lis_1))\n"
      ]
    },
    {
      "cell_type": "code",
      "execution_count": 110,
      "metadata": {},
      "outputs": [
        {
          "name": "stdout",
          "output_type": "stream",
          "text": [
            "{'a': 400, 'b': 300, 'c': 200, 'd': 700, 'e': 200}\n",
            "Values: (200, 300, 400, 700)\n"
          ]
        }
      ],
      "source": [
        "#shortcut 1\n",
        "a = {'a': 100, 'b': 100, 'c': 200, 'd': 300}\n",
        "b = {'a': 300, 'b': 200, 'd': 400, 'e': 200}\n",
        "c = {}\n",
        "for i, j in a.items():\n",
        "    c[i] = j\n",
        "\n",
        "for k, v in b.items():\n",
        "    if k in a:\n",
        "        c[k] += v\n",
        "    else:\n",
        "        c[k] = v\n",
        "print(c)\n",
        "\n",
        "lis_1 = []\n",
        "for vals in c.values():\n",
        "    if vals not in lis_1:\n",
        "        lis_1.append(vals)\n",
        "lis_1.sort()\n",
        "print(\"Values:\", tuple(lis_1))\n"
      ]
    },
    {
      "cell_type": "code",
      "execution_count": 75,
      "metadata": {
        "id": "IFnw62FlSum8"
      },
      "outputs": [
        {
          "name": "stdout",
          "output_type": "stream",
          "text": [
            "10 - 3 times\n",
            "20 - 1 times\n"
          ]
        }
      ],
      "source": [
        "# 2\n",
        "d = {}\n",
        "while True:\n",
        "    num = input()\n",
        "    if num == \"STOP\":\n",
        "        break\n",
        "    if num in d.keys():\n",
        "        d[num] += 1\n",
        "    else:\n",
        "        d[num] = 1\n",
        "\n",
        "for i, j in d.items():\n",
        "    print(f\"{i} - {j} times\")\n"
      ]
    },
    {
      "cell_type": "code",
      "execution_count": 78,
      "metadata": {
        "id": "DvIT88UxSxou"
      },
      "outputs": [
        {
          "name": "stdout",
          "output_type": "stream",
          "text": [
            "{'value1': ['key1', 'key3'], 'value2': ['key2']}\n"
          ]
        }
      ],
      "source": [
        "# 3\n",
        "d = {\"key1\":\"value1\", \"key2\":\"value2\", \"key3\":\"value1\"}\n",
        "t = {}\n",
        "for k,v in d.items():\n",
        "    if v in t.keys():\n",
        "        t[v].append(k)\n",
        "    else:\n",
        "        t[v]=[k]\n",
        "print(t)\n"
      ]
    },
    {
      "cell_type": "code",
      "execution_count": 105,
      "metadata": {
        "id": "hCr74ETGSz-M"
      },
      "outputs": [
        {
          "name": "stdout",
          "output_type": "stream",
          "text": [
            "44444"
          ]
        }
      ],
      "source": [
        "# 4\n",
        "str_1 = input(\"\")\n",
        "str_1 = str_1.upper()\n",
        "\n",
        "keypad = {'1' : ['.', ',', '?', '!', ':'],\n",
        "    '2' : ['A', 'B', 'C'],\n",
        "    '3' : ['D', 'E', 'F'],\n",
        "    '4' : ['G', 'H', 'I'],\n",
        "    '5' : ['J', 'K', 'L'],\n",
        "    '6' : ['M', 'N', 'O'],\n",
        "    '7' : ['P', 'Q', 'R', 'S'],\n",
        "    '8' : ['T', 'U', 'V'],\n",
        "    '9' : ['W', 'X', 'Y', 'Z'],\n",
        "    '0' : [' ']}\n",
        "\n",
        "for i in str_1:\n",
        "    for key,letters in keypad.items():\n",
        "        if i in letters:\n",
        "            times = letters.index(i)\n",
        "            print(key*(times+1),end=\"\")\n",
        "            "
      ]
    },
    {
      "cell_type": "markdown",
      "metadata": {
        "id": "Ptxaf7WMS4Of"
      },
      "source": [
        "**Function**"
      ]
    },
    {
      "cell_type": "code",
      "execution_count": null,
      "metadata": {
        "id": "sDInUbHIRR41",
        "outputId": "86a14a52-0066-4084-c535-9883c0850575"
      },
      "outputs": [
        {
          "name": "stdout",
          "output_type": "stream",
          "text": [
            " score : 20.8 . You're Normal.\n"
          ]
        }
      ],
      "source": [
        "# 1\n",
        "def amiKenoMota(height, weight):\n",
        "    height = height / 100\n",
        "    bmi = weight / height**2\n",
        "    return round(bmi, 1)\n",
        "\n",
        "\n",
        "bmi = amiKenoMota(152, 48)\n",
        "if bmi < 18.5:\n",
        "    state = \"Underweight\"\n",
        "elif bmi <= 24.9:\n",
        "    state = \"Normal\"\n",
        "elif bmi <= 30:\n",
        "    state = \"Overweight\"\n",
        "else:\n",
        "    state = \"Obese\"\n",
        "\n",
        "print(f\" score : {bmi} . You're {state}.\")\n"
      ]
    },
    {
      "cell_type": "code",
      "execution_count": 3,
      "metadata": {
        "id": "UBk-qnzjRR41"
      },
      "outputs": [
        {
          "data": {
            "text/plain": [
              "45"
            ]
          },
          "execution_count": 3,
          "metadata": {},
          "output_type": "execute_result"
        }
      ],
      "source": [
        "# 2\n",
        "def findDivisible(minimum, maximum, divisor):\n",
        "    result = 0\n",
        "    for i in range(minimum, maximum):\n",
        "        if i % divisor == 0:\n",
        "            result += i\n",
        "    return result\n",
        "\n",
        "\n",
        "findDivisible(3, 16, 3)\n"
      ]
    },
    {
      "cell_type": "code",
      "execution_count": 19,
      "metadata": {
        "id": "rADEl6tRTBqH"
      },
      "outputs": [
        {
          "data": {
            "text/plain": [
              "243.6"
            ]
          },
          "execution_count": 19,
          "metadata": {},
          "output_type": "execute_result"
        }
      ],
      "source": [
        "# 3\n",
        "def foodPanda(meal, location=\"Mohakhali\"):\n",
        "    menu = {\"BBQ Chicken Cheese Burger\": 250,\n",
        "            \"Beef Burger\": 170, \"Naga Drums\": 200}\n",
        "\n",
        "    delivary = 0\n",
        "    meal_cost = 0\n",
        "\n",
        "    meal_cost += menu[meal]\n",
        "    tax = meal_cost*(8/100)\n",
        "\n",
        "    if location.lower() == \"mohakhali\":\n",
        "        delivary += 40\n",
        "    else:\n",
        "        delivary += 60\n",
        "\n",
        "    return meal_cost + tax + delivary\n",
        "\n",
        "\n",
        "foodPanda(\"Beef Burger\", \"Dhanmondi\")\n"
      ]
    },
    {
      "cell_type": "code",
      "execution_count": 14,
      "metadata": {
        "id": "OrQTkF6-TDcF"
      },
      "outputs": [
        {
          "name": "stdout",
          "output_type": "stream",
          "text": [
            "Changed: alice@sheba.xyz\n"
          ]
        }
      ],
      "source": [
        "# 4\n",
        "def replaceDomain(email, new_domain, old_domain=\"kaaj.com\"):\n",
        "\n",
        "    start = email.index(\"@\")\n",
        "    domain = email[start+1:]\n",
        "\n",
        "    if domain == new_domain:\n",
        "        print(\"Unchanged:\", email)\n",
        "    else:\n",
        "        print(\"Changed:\", email[:start]+\"@\"+new_domain)\n",
        "\n",
        "\n",
        "replaceDomain(\"alice@kaaj.com\", \"sheba.xyz\")\n"
      ]
    },
    {
      "cell_type": "code",
      "execution_count": 53,
      "metadata": {
        "id": "zNrfr9vJTGXL"
      },
      "outputs": [
        {
          "data": {
            "text/plain": [
              "'Palindrome'"
            ]
          },
          "execution_count": 53,
          "metadata": {},
          "output_type": "execute_result"
        }
      ],
      "source": [
        "# 5\n",
        "def palindromeWord(str_1):\n",
        "    str_1 = str_1.replace(\" \", \"\")\n",
        "    if str_1 == str_1[::-1]:\n",
        "        return \"Palindrome\"\n",
        "    else:\n",
        "        return \"Not a palindrome\"\n",
        "\n",
        "\n",
        "palindromeWord(\"nurses run\")\n"
      ]
    },
    {
      "cell_type": "code",
      "execution_count": 74,
      "metadata": {
        "id": "jI-w3y2NTIuH"
      },
      "outputs": [
        {
          "name": "stdout",
          "output_type": "stream",
          "text": [
            "My favourite animal is a dog. A dog has sharp teeth so that it can eat flesh very easily. Do you know my pet dog’s name? I love my pet very much.\n"
          ]
        }
      ],
      "source": [
        "# 6\n",
        "def punctuation(s):\n",
        "    words = s.split(\" \")\n",
        "    marks = [\"?\", \".\", \"!\"]\n",
        "    res = \"\"\n",
        "    for i in range(len(words)):\n",
        "\n",
        "        words[0] = words[0].capitalize()\n",
        "\n",
        "        if words[i] == \"i\":\n",
        "            words[i] = \"I\"\n",
        "\n",
        "        if i != len(words)-1:\n",
        "            if words[i][-1] in marks:\n",
        "                words[i+1] = words[i+1].capitalize()\n",
        "\n",
        "    for i in words:\n",
        "        res += i+\" \"\n",
        "    print(res[:-1])\n",
        "\n",
        "\n",
        "punctuation('my favourite animal is a dog. a dog has sharp teeth so that it can eat flesh very easily. do you know my pet dog’s name? i love my pet very much.')\n"
      ]
    },
    {
      "cell_type": "code",
      "execution_count": null,
      "metadata": {},
      "outputs": [],
      "source": []
    }
  ],
  "metadata": {
    "colab": {
      "collapsed_sections": [],
      "name": "cse111 assignment 1.ipynb",
      "provenance": []
    },
    "interpreter": {
      "hash": "0e13f340c18a70f97fe5af1559f3365ededd8188aa82e954922cb03f301c6f95"
    },
    "kernelspec": {
      "display_name": "Python 3.10.3 64-bit",
      "language": "python",
      "name": "python3"
    },
    "language_info": {
      "codemirror_mode": {
        "name": "ipython",
        "version": 3
      },
      "file_extension": ".py",
      "mimetype": "text/x-python",
      "name": "python",
      "nbconvert_exporter": "python",
      "pygments_lexer": "ipython3",
      "version": "3.10.3"
    },
    "orig_nbformat": 4
  },
  "nbformat": 4,
  "nbformat_minor": 0
}
