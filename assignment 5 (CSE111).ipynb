{
 "cells": [
  {
   "cell_type": "code",
   "execution_count": 6,
   "metadata": {},
   "outputs": [
    {
     "name": "stdout",
     "output_type": "stream",
     "text": [
      "Total marks: 20\n"
     ]
    }
   ],
   "source": [
    "# 1\n",
    "class Marks:\n",
    "    def __init__(self, x):\n",
    "        self.mark = x\n",
    "\n",
    "    def __add__(self, other):\n",
    "        total = self.mark + other.mark\n",
    "        return Marks(total)\n",
    "\n",
    "\n",
    "Q1 = Marks(int(input(\"Quiz 1 (out of 10): \")))\n",
    "Q2 = Marks(int(input(\"Quiz 2 (out of 10): \")))\n",
    "Lab = Marks(int(input(\"Lab (out of 30): \")))\n",
    "Mid = Marks(int(input(\"Mid (out of 20): \")))\n",
    "Final = Marks(int(input(\"Final (out of 30): \")))\n",
    "total = Q1 + Q2 + Lab + Mid + Final\n",
    "print(\"Total marks: {}\".format(total.mark))\n"
   ]
  },
  {
   "cell_type": "code",
   "execution_count": 5,
   "metadata": {},
   "outputs": [
    {
     "name": "stdout",
     "output_type": "stream",
     "text": [
      "====================================\n",
      "Name: Saad Abdullah \n",
      "Department: CSE \n",
      "List of courses:\n",
      "====================================\n",
      "CSE 110 Programming Language I\n",
      "CSE 111 Programming Language-II\n",
      "====================================\n",
      "====================================\n",
      "Name: Mumit Khan \n",
      "Department: CSE \n",
      "List of courses:\n",
      "====================================\n",
      "CSE 220 Data Structures\n",
      "CSE 221 Algorithms\n",
      "CCSE 230 Discrete Mathematics\n",
      "====================================\n",
      "====================================\n",
      "Name: Sadia Kazi \n",
      "Department: CSE \n",
      "List of courses:\n",
      "====================================\n",
      "CSE 310 Object Oriented Programming\n",
      "CSE 320 Data Communications\n",
      "CSE 340 Computer Architecture\n",
      "====================================\n"
     ]
    }
   ],
   "source": [
    "# 2\n",
    "class Teacher:\n",
    "    def __init__(self, name, dept):\n",
    "        self.name = name\n",
    "        self.dept = dept\n",
    "        self.courses = []\n",
    "\n",
    "    def addCourse(self, c):\n",
    "        self.courses.append(c.course_name)\n",
    "\n",
    "    def printDetail(self):\n",
    "        print(\"====================================\")\n",
    "        print(\"Name:\", self.name, \"\\nDepartment:\",\n",
    "              self.dept, \"\\nList of courses:\")\n",
    "        print(\"====================================\")\n",
    "        for i in self.courses:\n",
    "            print(i)\n",
    "        print(\"====================================\")\n",
    "\n",
    "\n",
    "class Course:\n",
    "    def __init__(self, course_name):\n",
    "        self.course_name = course_name\n",
    "\n",
    "\n",
    "t1 = Teacher(\"Saad Abdullah\", \"CSE\")\n",
    "t2 = Teacher(\"Mumit Khan\", \"CSE\")\n",
    "t3 = Teacher(\"Sadia Kazi\", \"CSE\")\n",
    "c1 = Course(\"CSE 110 Programming Language I\")\n",
    "c2 = Course(\"CSE 111 Programming Language-II\")\n",
    "c3 = Course(\"CSE 220 Data Structures\")\n",
    "c4 = Course(\"CSE 221 Algorithms\")\n",
    "c5 = Course(\"CCSE 230 Discrete Mathematics\")\n",
    "c6 = Course(\"CSE 310 Object Oriented Programming\")\n",
    "c7 = Course(\"CSE 320 Data Communications\")\n",
    "c8 = Course(\"CSE 340 Computer Architecture\")\n",
    "t1.addCourse(c1)\n",
    "t1.addCourse(c2)\n",
    "t2.addCourse(c3)\n",
    "t2.addCourse(c4)\n",
    "t2.addCourse(c5)\n",
    "t3.addCourse(c6)\n",
    "t3.addCourse(c7)\n",
    "t3.addCourse(c8)\n",
    "t1.printDetail()\n",
    "t2.printDetail()\n",
    "t3.printDetail()\n"
   ]
  },
  {
   "cell_type": "code",
   "execution_count": 7,
   "metadata": {},
   "outputs": [
    {
     "name": "stdout",
     "output_type": "stream",
     "text": [
      "Team: Bangladesh\n",
      "List of Players: ['Mashrafi', 'Tamim']\n",
      "Team: Australia\n",
      "List of Players: ['Ponting', 'Lee']\n"
     ]
    }
   ],
   "source": [
    "# 3\n",
    "class Team:\n",
    "    def __init__(self, t_name=None):\n",
    "        self.squad = []\n",
    "        self.t_name = t_name\n",
    "\n",
    "    def setName(self, t_name):\n",
    "        self.t_name = t_name\n",
    "\n",
    "    def addPlayer(self, p):\n",
    "        self.squad.append(p.p_name)\n",
    "\n",
    "    def printDetail(self):\n",
    "        print(\"Team:\", self.t_name)\n",
    "        print(\"List of Players:\", self.squad)\n",
    "\n",
    "\n",
    "class Player:\n",
    "    def __init__(self, p_name):\n",
    "        self.p_name = p_name\n",
    "\n",
    "\n",
    "b = Team()\n",
    "b.setName('Bangladesh')\n",
    "mashrafi = Player(\"Mashrafi\")\n",
    "b.addPlayer(mashrafi)\n",
    "tamim = Player(\"Tamim\")\n",
    "b.addPlayer(tamim)\n",
    "b.printDetail()\n",
    "a = Team(\"Australia\")\n",
    "ponting = Player(\"Ponting\")\n",
    "a.addPlayer(ponting)\n",
    "lee = Player(\"Lee\")\n",
    "a.addPlayer(lee)\n",
    "a.printDetail()\n"
   ]
  },
  {
   "cell_type": "code",
   "execution_count": 14,
   "metadata": {},
   "outputs": [
    {
     "name": "stdout",
     "output_type": "stream",
     "text": [
      "Color formed: Green\n"
     ]
    }
   ],
   "source": [
    "# 4\n",
    "class Color:\n",
    "    def __init__(self, c1):\n",
    "        self.clr = c1\n",
    "        self.code = {\"red\": 1, \"yellow\": 2, \"blue\": 3}\n",
    "        self.color = {3: \"Orange\", 4: \"Violet\", 5: \"Green\"}\n",
    "\n",
    "    def __add__(self, other):\n",
    "        key = self.code[self.clr] + self.code[other.clr]\n",
    "        return Color(self.color[key])\n",
    "\n",
    "\n",
    "C1 = Color(input(\"First Color: \").lower())\n",
    "C2 = Color(input(\"Second Color: \").lower())\n",
    "C3 = C1 + C2\n",
    "print(\"Color formed:\", C3.clr)\n"
   ]
  },
  {
   "cell_type": "code",
   "execution_count": 21,
   "metadata": {},
   "outputs": [
    {
     "name": "stdout",
     "output_type": "stream",
     "text": [
      "First circle radius: 4\n",
      "First circle area: 50.285714285714285\n",
      "Second circle radius: 5\n",
      "Second circle area: 78.57142857142857\n",
      "Third circle radius: 9\n",
      "Third circle area: 254.57142857142856\n"
     ]
    }
   ],
   "source": [
    "# 5\n",
    "class Circle:\n",
    "    def __init__(self, r=None):\n",
    "        self._r = r\n",
    "\n",
    "    def getRadius(self):\n",
    "        return self._r\n",
    "\n",
    "    def setRadius(self, r):\n",
    "        self._r = r\n",
    "\n",
    "    def area(self):\n",
    "        self._area = (22/7) * (self._r ** 2)\n",
    "        return self._area\n",
    "\n",
    "    def __add__(self, other):\n",
    "        f = self._r + other._r\n",
    "        return Circle(f)\n",
    "\n",
    "\n",
    "c1 = Circle(4)\n",
    "print(\"First circle radius:\", c1.getRadius())\n",
    "print(\"First circle area:\", c1.area())\n",
    "c2 = Circle(5)\n",
    "print(\"Second circle radius:\", c2.getRadius())\n",
    "print(\"Second circle area:\", c2.area())\n",
    "c3 = c1 + c2\n",
    "print(\"Third circle radius:\", c3.getRadius())\n",
    "print(\"Third circle area:\", c3.area())\n"
   ]
  },
  {
   "cell_type": "code",
   "execution_count": 26,
   "metadata": {},
   "outputs": [
    {
     "name": "stdout",
     "output_type": "stream",
     "text": [
      "First Triangle Base: 10\n",
      "First Triangle Height: 5\n",
      "First Triangle area: 25.0\n",
      "Second Triangle Base: 5\n",
      "Second Triangle Height: 3\n",
      "Second Triangle area: 7.5\n",
      "Third Triangle Base: 5\n",
      "Third Triangle Height: 2\n",
      "Third Triangle area: 5.0\n"
     ]
    }
   ],
   "source": [
    "# 6\n",
    "class Triangle:\n",
    "    def __init__(self, base, height):\n",
    "        self.__base = base\n",
    "        self.__height = height\n",
    "\n",
    "    def getBase(self):\n",
    "        return self.__base\n",
    "\n",
    "    def getHeight(self):\n",
    "        return self.__height\n",
    "\n",
    "    def area(self):\n",
    "        return 0.5 * self.__base * self.__height\n",
    "\n",
    "    def __sub__(self, other):\n",
    "        x = self.__base - other.getBase()\n",
    "        y = self.__height - other.getHeight()\n",
    "\n",
    "        return Triangle(x, y)\n",
    "\n",
    "\n",
    "t1 = Triangle(10, 5)\n",
    "print(\"First Triangle Base:\", t1.getBase())\n",
    "print(\"First Triangle Height:\", t1.getHeight())\n",
    "print(\"First Triangle area:\", t1.area())\n",
    "t2 = Triangle(5, 3)\n",
    "print(\"Second Triangle Base:\", t2.getBase())\n",
    "print(\"Second Triangle Height:\", t2.getHeight())\n",
    "print(\"Second Triangle area:\", t2.area())\n",
    "t3 = t1 - t2\n",
    "print(\"Third Triangle Base:\", t3.getBase())\n",
    "print(\"Third Triangle Height:\", t3.getHeight())\n",
    "print(\"Third Triangle area:\", t3.area())\n"
   ]
  },
  {
   "cell_type": "code",
   "execution_count": 7,
   "metadata": {},
   "outputs": [
    {
     "name": "stdout",
     "output_type": "stream",
     "text": [
      "Doll: Tweety\n",
      "Total price: 2500 taka\n",
      "Thank you!\n",
      "=========================\n",
      "Doll: Daffy Duck\n",
      "Total price: 1800 taka\n",
      "Thank you!\n",
      "=========================\n",
      "Doll: Bugs Bunny\n",
      "Total price: 3000 taka\n",
      "Congratulations! You get the Tweety as a gift!\n",
      "=========================\n",
      "Doll: Porky Pig\n",
      "Total price: 1500 taka\n",
      "Thank you!\n",
      "=========================\n",
      "Doll: Daffy Duck Bugs Bunny\n",
      "Total price: 4800 taka\n",
      "Congratulations! You get the Tweety as a gift!\n"
     ]
    }
   ],
   "source": [
    "# 7\n",
    "class Dolls:\n",
    "    def __init__(self, name, price):\n",
    "        self.name = name\n",
    "        self.price = price\n",
    "\n",
    "    def __gt__(self, other):\n",
    "        return self.price > other.price\n",
    "\n",
    "    def detail(self):\n",
    "        print(\"Doll:\", self.name)\n",
    "        return f\"Total price: {self.price} taka\"\n",
    "    def __add__(self,other):\n",
    "        x = self.name +\" \"+ other.name\n",
    "        y = self.price + other.price\n",
    "        return Dolls(x,y)\n",
    "\n",
    "obj_1 = Dolls(\"Tweety\", 2500)\n",
    "print(obj_1.detail())\n",
    "if obj_1 > obj_1:\n",
    "    print(\"Congratulations! You get the Tweety as a gift!\")\n",
    "else:\n",
    "    print(\"Thank you!\")\n",
    "print(\"=========================\")\n",
    "obj_2 = Dolls(\"Daffy Duck\", 1800)\n",
    "print(obj_2.detail())\n",
    "if obj_2 > obj_1:\n",
    "    print(\"Congratulations! You get the Tweety as a gift!\")\n",
    "else:\n",
    "    print(\"Thank you!\")\n",
    "print(\"=========================\")\n",
    "obj_3 = Dolls(\"Bugs Bunny\", 3000)\n",
    "print(obj_3.detail())\n",
    "if obj_3 > obj_1:\n",
    "    print(\"Congratulations! You get the Tweety as a gift!\")\n",
    "else:\n",
    "    print(\"Thank you!\")\n",
    "print(\"=========================\")\n",
    "obj_4 = Dolls(\"Porky Pig\", 1500)\n",
    "print(obj_4.detail())\n",
    "if obj_4 > obj_1:\n",
    "    print(\"Congratulations! You get the Tweety as a gift!\")\n",
    "else:\n",
    "    print(\"Thank you!\")\n",
    "print(\"=========================\")\n",
    "obj_5 = obj_2 + obj_3\n",
    "print(obj_5.detail())\n",
    "if obj_5 > obj_1:\n",
    "    print(\"Congratulations! You get the Tweety as a gift!\")\n",
    "else:\n",
    "    print(\"Thank you!\")\n"
   ]
  },
  {
   "cell_type": "code",
   "execution_count": 10,
   "metadata": {},
   "outputs": [
    {
     "name": "stdout",
     "output_type": "stream",
     "text": [
      "(0, 0)\n",
      "(0, 0)\n",
      "The calculated coordinates are the same.\n"
     ]
    }
   ],
   "source": [
    "#8\n",
    "class Coordinates:\n",
    "    def __init__(self,x,y):\n",
    "        self.x = x\n",
    "        self.y = y\n",
    "    def __mul__(self,other):\n",
    "        a = self.x * other.x\n",
    "        b = self.y * other.y\n",
    "        return Coordinates(a,b)\n",
    "    def __sub__(self,other):\n",
    "        a = self.x - other.x\n",
    "        b = self.y - other.y\n",
    "        return Coordinates(a,b)\n",
    "    def __eq__(self,other):\n",
    "        if self.x == other.x and self.y == other.y:\n",
    "            return \"The calculated coordinates are the same.\"\n",
    "        else:\n",
    "            return \"The calculated coordinates are NOT the same.\"\n",
    "    def detail(self):\n",
    "        return self.x ,self.y\n",
    "    \n",
    "\n",
    "p1 = Coordinates(int(input()),int(input()))\n",
    "p2 = Coordinates(int(input()),int(input()))\n",
    "p4 = p1 - p2\n",
    "print(p4.detail())\n",
    "p5 = p1 * p2\n",
    "print(p5.detail())\n",
    "point_check = (p4 == p5)\n",
    "print(point_check)"
   ]
  },
  {
   "cell_type": "code",
   "execution_count": null,
   "metadata": {},
   "outputs": [],
   "source": []
  }
 ],
 "metadata": {
  "kernelspec": {
   "display_name": "Python 3.10.3 64-bit",
   "language": "python",
   "name": "python3"
  },
  "language_info": {
   "codemirror_mode": {
    "name": "ipython",
    "version": 3
   },
   "file_extension": ".py",
   "mimetype": "text/x-python",
   "name": "python",
   "nbconvert_exporter": "python",
   "pygments_lexer": "ipython3",
   "version": "3.10.3"
  },
  "orig_nbformat": 4,
  "vscode": {
   "interpreter": {
    "hash": "0e13f340c18a70f97fe5af1559f3365ededd8188aa82e954922cb03f301c6f95"
   }
  }
 },
 "nbformat": 4,
 "nbformat_minor": 2
}
